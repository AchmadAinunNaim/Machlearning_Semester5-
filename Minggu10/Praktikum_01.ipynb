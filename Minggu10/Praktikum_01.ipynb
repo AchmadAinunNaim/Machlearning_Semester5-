{
  "nbformat": 4,
  "nbformat_minor": 0,
  "metadata": {
    "colab": {
      "provenance": [],
      "gpuType": "T4",
      "include_colab_link": true
    },
    "kernelspec": {
      "name": "python3",
      "display_name": "Python 3"
    },
    "language_info": {
      "name": "python"
    },
    "accelerator": "GPU"
  },
  "cells": [
    {
      "cell_type": "markdown",
      "metadata": {
        "id": "view-in-github",
        "colab_type": "text"
      },
      "source": [
        "<a href=\"https://colab.research.google.com/github/AchmadAinunNaim/Machlearning_Semester5-/blob/main/Minggu10/Praktikum_01.ipynb\" target=\"_parent\"><img src=\"https://colab.research.google.com/assets/colab-badge.svg\" alt=\"Open In Colab\"/></a>"
      ]
    },
    {
      "cell_type": "markdown",
      "source": [
        "# Jobshet 10 - Recurrent  Neurel Network (RNN)"
      ],
      "metadata": {
        "id": "mS7kbO3W7bDJ"
      }
    },
    {
      "cell_type": "markdown",
      "source": [
        "### **Praktikum 1 - RNN untuk Analisis Sentimen**\n",
        "\n",
        "**Setup**\n",
        "\n",
        "Impor matplotlib dan buat fungsi pembantu untuk memplot grafik:"
      ],
      "metadata": {
        "id": "8eQp2wiixJh3"
      }
    },
    {
      "cell_type": "code",
      "execution_count": 1,
      "metadata": {
        "id": "jb457RIn_Opd"
      },
      "outputs": [],
      "source": [
        "import numpy as np\n",
        "import tensorflow_datasets as tfds\n",
        "import tensorflow as tf\n",
        "\n",
        "tfds.disable_progress_bar()"
      ]
    },
    {
      "cell_type": "code",
      "source": [
        "import matplotlib.pyplot as plt\n",
        "\n",
        "def plot_graphs(history, metric):\n",
        "  plt.plot(history.history[metric])\n",
        "  plt.plot(history.history['val_'+metric], '')\n",
        "  plt.xlabel(\"Epochs\")\n",
        "  plt.ylabel(metric)\n",
        "  plt.legend([metric, 'val_'+metric])"
      ],
      "metadata": {
        "id": "kQBDM6JfAOdQ"
      },
      "execution_count": 2,
      "outputs": []
    },
    {
      "cell_type": "markdown",
      "source": [
        "**Setup input pipeline**\n",
        "\n",
        "Dataset ulasan film IMDB adalah kumpulan data klasifikasi biner—semua ulasan memiliki sentimen positif atau negatif. Download dataset menggunakan TFDS. Lihat loading text tutorial jika ingin me load data secara manual."
      ],
      "metadata": {
        "id": "fcP2pBvrAMyW"
      }
    },
    {
      "cell_type": "code",
      "source": [
        "dataset, info = tfds.load('imdb_reviews', with_info=True,\n",
        "                          as_supervised=True)\n",
        "train_dataset, test_dataset = dataset['train'], dataset['test']\n",
        "\n",
        "train_dataset.element_spec"
      ],
      "metadata": {
        "colab": {
          "base_uri": "https://localhost:8080/"
        },
        "id": "mhOzNrjyAfwp",
        "outputId": "3d99a0f8-8467-4f22-a587-3b6ff7d85984"
      },
      "execution_count": 3,
      "outputs": [
        {
          "output_type": "stream",
          "name": "stdout",
          "text": [
            "Downloading and preparing dataset 80.23 MiB (download: 80.23 MiB, generated: Unknown size, total: 80.23 MiB) to /root/tensorflow_datasets/imdb_reviews/plain_text/1.0.0...\n",
            "Dataset imdb_reviews downloaded and prepared to /root/tensorflow_datasets/imdb_reviews/plain_text/1.0.0. Subsequent calls will reuse this data.\n"
          ]
        },
        {
          "output_type": "execute_result",
          "data": {
            "text/plain": [
              "(TensorSpec(shape=(), dtype=tf.string, name=None),\n",
              " TensorSpec(shape=(), dtype=tf.int64, name=None))"
            ]
          },
          "metadata": {},
          "execution_count": 3
        }
      ]
    },
    {
      "cell_type": "markdown",
      "source": [
        "Awalnya ini mengembalikan dataset (teks, pasangan label):"
      ],
      "metadata": {
        "id": "au28F61HAiQM"
      }
    },
    {
      "cell_type": "code",
      "source": [
        "for example, label in train_dataset.take(1):\n",
        "  print('text: ', example.numpy())\n",
        "  print('label: ', label.numpy())"
      ],
      "metadata": {
        "colab": {
          "base_uri": "https://localhost:8080/"
        },
        "id": "ztg1SmfuAkQ2",
        "outputId": "2b82f316-9bd6-46d0-afc9-bf2e6f58148e"
      },
      "execution_count": 4,
      "outputs": [
        {
          "output_type": "stream",
          "name": "stdout",
          "text": [
            "text:  b\"This was an absolutely terrible movie. Don't be lured in by Christopher Walken or Michael Ironside. Both are great actors, but this must simply be their worst role in history. Even their great acting could not redeem this movie's ridiculous storyline. This movie is an early nineties US propaganda piece. The most pathetic scenes were those when the Columbian rebels were making their cases for revolutions. Maria Conchita Alonso appeared phony, and her pseudo-love affair with Walken was nothing but a pathetic emotional plug in a movie that was devoid of any real meaning. I am disappointed that there are movies like this, ruining actor's like Christopher Walken's good name. I could barely sit through it.\"\n",
            "label:  0\n"
          ]
        }
      ]
    },
    {
      "cell_type": "markdown",
      "source": [
        "Berikutnya acak data untuk pelatihan dan membuat kumpulan pasangan (teks, label) ini:"
      ],
      "metadata": {
        "id": "neTEyRQBA6JG"
      }
    },
    {
      "cell_type": "code",
      "source": [
        "BUFFER_SIZE = 10000\n",
        "BATCH_SIZE = 64\n",
        "\n",
        "train_dataset = train_dataset.shuffle(BUFFER_SIZE).batch(BATCH_SIZE).prefetch(tf.data.AUTOTUNE)\n",
        "test_dataset = test_dataset.batch(BATCH_SIZE).prefetch(tf.data.AUTOTUNE)\n",
        "\n",
        "for example, label in train_dataset.take(1):\n",
        "  print('texts: ', example.numpy()[:3])\n",
        "  print()\n",
        "  print('labels: ', label.numpy()[:3])"
      ],
      "metadata": {
        "colab": {
          "base_uri": "https://localhost:8080/"
        },
        "id": "GTYpiFwaA6tA",
        "outputId": "a7e726e2-f455-458f-88cc-2aedf0241fb6"
      },
      "execution_count": 5,
      "outputs": [
        {
          "output_type": "stream",
          "name": "stdout",
          "text": [
            "texts:  [b'There\\'s a great deal of material from the Modesty Blaise comics and novels that would be great in a movie. Unfortunately, several attempts have been made and they\\'ve fallen short of the great potential in the character. So, no, this isn\\'t the Modesty you know from the comic strip (currently reprinted in nice editions from Titan Books). This is Modesty some 5 or 6 years prior to the first strip, and from what you can piece together from her back-story, it\\'s accurate.<br /><br />Miramax had the movie rights to the character, with Quentin Tarantino acting as advocate and technical adviser. Early drafts of the Miramax project attempted to adapt one of the best novels, but always managed to leave out some crucial element. Tarantino wasn\\'t happy with any of them, and offered to remove his name from the project so they could proceed. To the studio\\'s credit, they wanted to keep him in the process, since they knew he \"got\" the character and her world. With the movie rights close to expiration, they decided to try a very different approach. The result was \"My Name is Modesty,\" a small direct-to-video movie that introduces the character.<br /><br />The movie does not introduce Willie Garvin or Sir Gerald. These characters are important to Blaise\\'s adventures throughout most of the published stories. What this movie accomplishes is showing the strength of the character by herself. She never loses her composure, and you never doubt that she\\'s in charge even unarmed in a room full of gangsters with guns. Most of the movie takes place within a casino, which undoubtedly saved money on the production. It doesn\\'t matter. The film does not come across as cheap. Instead, it gives a fairly comprehensive (and believable) back-story for the character and demonstrates just how far she thinks ahead. Should Miramax adapt any of the comic stories or novels now, they\\'ve laid out the character\\'s background nicely and won\\'t have to spend much time on her \"origin.\" I realize the words \"Direct-to-Video\" don\\'t inspire confidence, but this film is well worth a look.'\n",
            " b'I give this movie 3 out of 10 because I have watched zillions of movies and I can tell clearly what an intellectual movie with a mind-teasing message should look like. Definitely, The Broken is not one of those movies. I have to admit that the movie made me think a lot trying to understand what the whole thing was trying to lead to and despite the explanations I\\'ve read in prior comments, they seemed only an exaggeration just to have one self in the intellectual league of people. the photo on the cover clearly shows that the Broken is the broken upper piece of the face which normally contains the brain. It\\'s a clear message that once this part of the body is broken the rest will be deformed and lifeless. So, you start waiting on the movie characters to show their defected sides and this is not obvious in any of the scenes because the movie starts right away without any introduction to the characters and their lives before. Though we see the father holding a rifle when his children try to surprise him as if he is aware he has enemies but still this is not a very strong clue. Had the clues been planted more in the movie, one would have said about that it is a masterpiece indeed. But though the movie was so slow in pace, it was at the same time so empty with no metaphorical scenes at all. And the reuniting of the evil dad with the evil Gena at the end is a strong refuting evidence of the existential messages that some people spoke about in other comments. Furthermore, if Gena truly lives in the apartment as her brother tells her at the end, then how come she is the evil one? I bet I can defy any theory about this movie with so many questions that can only lead to one conclusion: This movie is a pretentious one and a waste of time. Obviously it shows someone trying to make out of a meaningless mystery something which is of no value at all. I am a huge fan of horror movies and specially slasher ones that some people call popcorn movies. Horror movies are not supposed to convey deep messages! They\\'re supposed to uncover the beautiful mask of life and show you the other dark side of it which is the truest, I guess. Horror movies should have blood, screams, intensity, skeletons, body organs and parts. Because that is the real horror and it\\'s never away from reality. I have watched almost all horror movies and I can prove that each one of them can be as real as the sunrising. Nothing is unreal as long as the mind had thought of. For instance, the horror movie \"Train\" with all the slashing and tensity of it and its similarity almost in everything with \"Hostel\", it speaks about a very real thing which is selling body organs illegally by abducting people in foreign places where no one would ask or search for them.<br /><br />And even if we considered the Broken a movie that has an existential message, it is still very poorly presented and the least scary. I prefer the addiction message presented in Requiem for a Dream which went beyond drug addiction to highlight the fact that any kind of addiction whether for sex, TV, safety/being pampered, etc... can be so destructive and it scared the hell out of me. And those who always criticize horror movies for being meaningless and very commercial, are usually just bunch of people who get scared easily and simply don\\'t like this genre but this doesn\\'t mean that there are fans of such movies and that they have a lot to offer to the viewer from adrenaline turmoils, ecstasy, leadership lessons (believe it or not!), entertainment to most importantly the face to face interview with the essence of life, as ugly and scary as it may seems, Death!'\n",
            " b\"The film largely focuses on a bullying Robert Taylor as a ruthless buffalo hunter and the people who have to put up with him. Set amidst a hunt for dwindling numbers of buffalo, it portrays the end of a tragic era of senseless slaughter and is full of drama and remorse for both the buffalo and the Native Americans. Taylor is blinded by his hatred of Indians and his naivete that the buffalo herds will never disappear. In one scene, he shoots animal after animal, while in another he murders Indians and then eats the food they had cooking on their fire. Under this ruthless exterior lies an insecure person who is reduced to begging his comrades (Stewart Granger, Lloyd Nolan, and Russ Tamblyn) not to leave him. It's not the most pleasant of films and is weighed down by the drama it creates, leading to a dismal and very fitting conclusion in a blizzard.\"]\n",
            "\n",
            "labels:  [1 0 1]\n"
          ]
        }
      ]
    },
    {
      "cell_type": "markdown",
      "source": [
        "**Buat Teks Encoder**\n",
        "\n",
        "Teks mentah yang dimuat oleh tfds perlu diproses sebelum dapat digunakan dalam model. Cara termudah memproses teks untuk pelatihan adalah menggunakan lapisan TextVectorization. Lapisan ini memiliki banyak kemampuan, namun pada tutorial ini menggunakan perilaku default. Buat lapisan tersebut, dan teruskan teks kumpulan data ke metode .adapt lapisan:"
      ],
      "metadata": {
        "id": "enkc312bA-De"
      }
    },
    {
      "cell_type": "code",
      "source": [
        "VOCAB_SIZE = 1000\n",
        "encoder = tf.keras.layers.TextVectorization(\n",
        "    max_tokens=VOCAB_SIZE)\n",
        "encoder.adapt(train_dataset.map(lambda text, label: text))"
      ],
      "metadata": {
        "id": "Ou_mWPdPBB-a"
      },
      "execution_count": 6,
      "outputs": []
    },
    {
      "cell_type": "markdown",
      "source": [
        "Metode .adapt mengatur kosakata lapisan. 20 token pertama dapat dilihat dengan kode berikut. Setelah padding dan token yang tidak diketahui, mereka diurutkan berdasarkan frekuensi:"
      ],
      "metadata": {
        "id": "PhaPAJrkBFJ-"
      }
    },
    {
      "cell_type": "code",
      "source": [
        "vocab = np.array(encoder.get_vocabulary())\n",
        "vocab[:20]"
      ],
      "metadata": {
        "colab": {
          "base_uri": "https://localhost:8080/"
        },
        "id": "ecXhYV7HBFo1",
        "outputId": "f7fc0a94-3de7-489c-f562-c38642f587d4"
      },
      "execution_count": 7,
      "outputs": [
        {
          "output_type": "execute_result",
          "data": {
            "text/plain": [
              "array(['', '[UNK]', 'the', 'and', 'a', 'of', 'to', 'is', 'in', 'it', 'i',\n",
              "       'this', 'that', 'br', 'was', 'as', 'for', 'with', 'movie', 'but'],\n",
              "      dtype='<U14')"
            ]
          },
          "metadata": {},
          "execution_count": 7
        }
      ]
    },
    {
      "cell_type": "markdown",
      "source": [
        "Setelah kosakata diatur, lapisan dapat mengkodekan teks ke dalam indeks. Tensor indeks diberi bantalan 0 ke urutan terpanjang dalam batch (kecuali jika Anda menetapkan output_sequence_length tetap):"
      ],
      "metadata": {
        "id": "v83pXVKEBN3P"
      }
    },
    {
      "cell_type": "code",
      "source": [
        "encoded_example = encoder(example)[:3].numpy()\n",
        "encoded_example"
      ],
      "metadata": {
        "colab": {
          "base_uri": "https://localhost:8080/"
        },
        "id": "wolVN5l2BP55",
        "outputId": "1bdc6054-8ea1-44b6-e468-2e7bca0cdf0e"
      },
      "execution_count": 8,
      "outputs": [
        {
          "output_type": "execute_result",
          "data": {
            "text/plain": [
              "array([[213,   4,  85, ...,   0,   0,   0],\n",
              "       [ 10, 192,  11, ...,   0,   0,   0],\n",
              "       [  2,  20,   1, ...,   0,   0,   0]])"
            ]
          },
          "metadata": {},
          "execution_count": 8
        }
      ]
    },
    {
      "cell_type": "markdown",
      "source": [
        "Dengan pengaturan default, prosesnya tidak dapat dibalik sepenuhnya. Ada dua alasan utama untuk itu:\n",
        "* Nilai default untuk argumen standarisasi preprocessing.TextVectorization adalah \"lower_and_strip_punctuation\".\n",
        "*Ukuran kosa kata yang terbatas dan kurangnya fallback berbasis karakter menghasilkan beberapa token yang tidak diketahui."
      ],
      "metadata": {
        "id": "gefr7VTtBHHi"
      }
    },
    {
      "cell_type": "code",
      "source": [
        "for n in range(3):\n",
        "  print(\"Original: \", example[n].numpy())\n",
        "  print(\"Round-trip: \", \" \".join(vocab[encoded_example[n]]))\n",
        "  print()"
      ],
      "metadata": {
        "colab": {
          "base_uri": "https://localhost:8080/"
        },
        "id": "MGU3n2DxBd7k",
        "outputId": "d0bc16b3-423f-492e-c78b-3754ae592ecd"
      },
      "execution_count": 9,
      "outputs": [
        {
          "output_type": "stream",
          "name": "stdout",
          "text": [
            "Original:  b'There\\'s a great deal of material from the Modesty Blaise comics and novels that would be great in a movie. Unfortunately, several attempts have been made and they\\'ve fallen short of the great potential in the character. So, no, this isn\\'t the Modesty you know from the comic strip (currently reprinted in nice editions from Titan Books). This is Modesty some 5 or 6 years prior to the first strip, and from what you can piece together from her back-story, it\\'s accurate.<br /><br />Miramax had the movie rights to the character, with Quentin Tarantino acting as advocate and technical adviser. Early drafts of the Miramax project attempted to adapt one of the best novels, but always managed to leave out some crucial element. Tarantino wasn\\'t happy with any of them, and offered to remove his name from the project so they could proceed. To the studio\\'s credit, they wanted to keep him in the process, since they knew he \"got\" the character and her world. With the movie rights close to expiration, they decided to try a very different approach. The result was \"My Name is Modesty,\" a small direct-to-video movie that introduces the character.<br /><br />The movie does not introduce Willie Garvin or Sir Gerald. These characters are important to Blaise\\'s adventures throughout most of the published stories. What this movie accomplishes is showing the strength of the character by herself. She never loses her composure, and you never doubt that she\\'s in charge even unarmed in a room full of gangsters with guns. Most of the movie takes place within a casino, which undoubtedly saved money on the production. It doesn\\'t matter. The film does not come across as cheap. Instead, it gives a fairly comprehensive (and believable) back-story for the character and demonstrates just how far she thinks ahead. Should Miramax adapt any of the comic stories or novels now, they\\'ve laid out the character\\'s background nicely and won\\'t have to spend much time on her \"origin.\" I realize the words \"Direct-to-Video\" don\\'t inspire confidence, but this film is well worth a look.'\n",
            "Round-trip:  theres a great deal of material from the [UNK] [UNK] [UNK] and [UNK] that would be great in a movie unfortunately several attempts have been made and [UNK] [UNK] short of the great potential in the character so no this isnt the [UNK] you know from the comic [UNK] [UNK] [UNK] in nice [UNK] from [UNK] [UNK] this is [UNK] some 5 or [UNK] years [UNK] to the first [UNK] and from what you can piece together from her [UNK] its [UNK] br [UNK] had the movie [UNK] to the character with [UNK] [UNK] acting as [UNK] and [UNK] [UNK] early [UNK] of the [UNK] [UNK] [UNK] to [UNK] one of the best [UNK] but always [UNK] to leave out some [UNK] [UNK] [UNK] wasnt happy with any of them and [UNK] to [UNK] his name from the [UNK] so they could [UNK] to the [UNK] [UNK] they wanted to keep him in the [UNK] since they knew he got the character and her world with the movie [UNK] close to [UNK] they decided to try a very different [UNK] the result was my name is [UNK] a small [UNK] movie that [UNK] the [UNK] br the movie does not [UNK] [UNK] [UNK] or [UNK] [UNK] these characters are important to [UNK] [UNK] throughout most of the [UNK] stories what this movie [UNK] is showing the [UNK] of the character by herself she never [UNK] her [UNK] and you never doubt that shes in [UNK] even [UNK] in a room full of [UNK] with [UNK] most of the movie takes place within a [UNK] which [UNK] [UNK] money on the production it doesnt matter the film does not come across as cheap instead it gives a fairly [UNK] and believable [UNK] for the character and [UNK] just how far she [UNK] [UNK] should [UNK] [UNK] any of the comic stories or [UNK] now [UNK] [UNK] out the characters background [UNK] and wont have to [UNK] much time on her [UNK] i realize the words [UNK] dont [UNK] [UNK] but this film is well worth a look                                                                                                                                                                                                                                                                                                                                                                                                                                                                                               \n",
            "\n",
            "Original:  b'I give this movie 3 out of 10 because I have watched zillions of movies and I can tell clearly what an intellectual movie with a mind-teasing message should look like. Definitely, The Broken is not one of those movies. I have to admit that the movie made me think a lot trying to understand what the whole thing was trying to lead to and despite the explanations I\\'ve read in prior comments, they seemed only an exaggeration just to have one self in the intellectual league of people. the photo on the cover clearly shows that the Broken is the broken upper piece of the face which normally contains the brain. It\\'s a clear message that once this part of the body is broken the rest will be deformed and lifeless. So, you start waiting on the movie characters to show their defected sides and this is not obvious in any of the scenes because the movie starts right away without any introduction to the characters and their lives before. Though we see the father holding a rifle when his children try to surprise him as if he is aware he has enemies but still this is not a very strong clue. Had the clues been planted more in the movie, one would have said about that it is a masterpiece indeed. But though the movie was so slow in pace, it was at the same time so empty with no metaphorical scenes at all. And the reuniting of the evil dad with the evil Gena at the end is a strong refuting evidence of the existential messages that some people spoke about in other comments. Furthermore, if Gena truly lives in the apartment as her brother tells her at the end, then how come she is the evil one? I bet I can defy any theory about this movie with so many questions that can only lead to one conclusion: This movie is a pretentious one and a waste of time. Obviously it shows someone trying to make out of a meaningless mystery something which is of no value at all. I am a huge fan of horror movies and specially slasher ones that some people call popcorn movies. Horror movies are not supposed to convey deep messages! They\\'re supposed to uncover the beautiful mask of life and show you the other dark side of it which is the truest, I guess. Horror movies should have blood, screams, intensity, skeletons, body organs and parts. Because that is the real horror and it\\'s never away from reality. I have watched almost all horror movies and I can prove that each one of them can be as real as the sunrising. Nothing is unreal as long as the mind had thought of. For instance, the horror movie \"Train\" with all the slashing and tensity of it and its similarity almost in everything with \"Hostel\", it speaks about a very real thing which is selling body organs illegally by abducting people in foreign places where no one would ask or search for them.<br /><br />And even if we considered the Broken a movie that has an existential message, it is still very poorly presented and the least scary. I prefer the addiction message presented in Requiem for a Dream which went beyond drug addiction to highlight the fact that any kind of addiction whether for sex, TV, safety/being pampered, etc... can be so destructive and it scared the hell out of me. And those who always criticize horror movies for being meaningless and very commercial, are usually just bunch of people who get scared easily and simply don\\'t like this genre but this doesn\\'t mean that there are fans of such movies and that they have a lot to offer to the viewer from adrenaline turmoils, ecstasy, leadership lessons (believe it or not!), entertainment to most importantly the face to face interview with the essence of life, as ugly and scary as it may seems, Death!'\n",
            "Round-trip:  i give this movie 3 out of 10 because i have watched [UNK] of movies and i can tell clearly what an [UNK] movie with a [UNK] message should look like definitely the [UNK] is not one of those movies i have to admit that the movie made me think a lot trying to understand what the whole thing was trying to lead to and despite the [UNK] ive read in [UNK] comments they seemed only an [UNK] just to have one [UNK] in the [UNK] [UNK] of people the [UNK] on the [UNK] clearly shows that the [UNK] is the [UNK] [UNK] piece of the face which [UNK] [UNK] the [UNK] its a clear message that once this part of the body is [UNK] the rest will be [UNK] and [UNK] so you start [UNK] on the movie characters to show their [UNK] [UNK] and this is not obvious in any of the scenes because the movie starts right away without any [UNK] to the characters and their lives before though we see the father [UNK] a [UNK] when his children try to surprise him as if he is [UNK] he has [UNK] but still this is not a very strong [UNK] had the [UNK] been [UNK] more in the movie one would have said about that it is a [UNK] indeed but though the movie was so slow in [UNK] it was at the same time so [UNK] with no [UNK] scenes at all and the [UNK] of the evil [UNK] with the evil [UNK] at the end is a strong [UNK] [UNK] of the [UNK] [UNK] that some people [UNK] about in other comments [UNK] if [UNK] truly lives in the [UNK] as her brother tells her at the end then how come she is the evil one i [UNK] i can [UNK] any [UNK] about this movie with so many [UNK] that can only lead to one [UNK] this movie is a [UNK] one and a waste of time obviously it shows someone trying to make out of a [UNK] mystery something which is of no [UNK] at all i am a huge fan of horror movies and [UNK] [UNK] ones that some people call [UNK] movies horror movies are not supposed to [UNK] deep [UNK] theyre supposed to [UNK] the beautiful [UNK] of life and show you the other dark side of it which is the [UNK] i guess horror movies should have blood [UNK] [UNK] [UNK] body [UNK] and parts because that is the real horror and its never away from reality i have watched almost all horror movies and i can [UNK] that each one of them can be as real as the [UNK] nothing is [UNK] as long as the mind had thought of for [UNK] the horror movie [UNK] with all the [UNK] and [UNK] of it and its [UNK] almost in everything with [UNK] it [UNK] about a very real thing which is [UNK] body [UNK] [UNK] by [UNK] people in [UNK] [UNK] where no one would ask or [UNK] for [UNK] br and even if we [UNK] the [UNK] a movie that has an [UNK] message it is still very poorly [UNK] and the least scary i [UNK] the [UNK] message [UNK] in [UNK] for a dream which went beyond [UNK] [UNK] to [UNK] the fact that any kind of [UNK] whether for sex tv [UNK] [UNK] etc can be so [UNK] and it [UNK] the hell out of me and those who always [UNK] horror movies for being [UNK] and very [UNK] are usually just bunch of people who get [UNK] easily and simply dont like this genre but this doesnt mean that there are fans of such movies and that they have a lot to [UNK] to the viewer from [UNK] [UNK] [UNK] [UNK] [UNK] believe it or not entertainment to most [UNK] the face to face [UNK] with the [UNK] of life as [UNK] and scary as it may seems death                                                                                                                                                                \n",
            "\n",
            "Original:  b\"The film largely focuses on a bullying Robert Taylor as a ruthless buffalo hunter and the people who have to put up with him. Set amidst a hunt for dwindling numbers of buffalo, it portrays the end of a tragic era of senseless slaughter and is full of drama and remorse for both the buffalo and the Native Americans. Taylor is blinded by his hatred of Indians and his naivete that the buffalo herds will never disappear. In one scene, he shoots animal after animal, while in another he murders Indians and then eats the food they had cooking on their fire. Under this ruthless exterior lies an insecure person who is reduced to begging his comrades (Stewart Granger, Lloyd Nolan, and Russ Tamblyn) not to leave him. It's not the most pleasant of films and is weighed down by the drama it creates, leading to a dismal and very fitting conclusion in a blizzard.\"\n",
            "Round-trip:  the film [UNK] [UNK] on a [UNK] robert [UNK] as a [UNK] [UNK] [UNK] and the people who have to put up with him set [UNK] a [UNK] for [UNK] [UNK] of [UNK] it [UNK] the end of a [UNK] [UNK] of [UNK] [UNK] and is full of drama and [UNK] for both the [UNK] and the [UNK] [UNK] [UNK] is [UNK] by his [UNK] of [UNK] and his [UNK] that the [UNK] [UNK] will never [UNK] in one scene he [UNK] [UNK] after [UNK] while in another he [UNK] [UNK] and then [UNK] the [UNK] they had [UNK] on their fire under this [UNK] [UNK] [UNK] an [UNK] person who is [UNK] to [UNK] his [UNK] [UNK] [UNK] [UNK] [UNK] and [UNK] [UNK] not to leave him its not the most [UNK] of films and is [UNK] down by the drama it [UNK] leading to a [UNK] and very [UNK] [UNK] in a [UNK]                                                                                                                                                                                                                                                                                                                                                                                                                                                                                                                                                                                                                                                                                              \n",
            "\n"
          ]
        }
      ]
    },
    {
      "cell_type": "markdown",
      "source": [
        "**Buat Model**\n",
        "\n",
        "diagram model dapat dilihat pada gambar diatas\n",
        "1. Model ini dapat dibuat sebagai tf.keras.Sequential.\n",
        "2.  Lapisan pertama adalah encoder, yang mengubah teks menjadi urutan indeks token.\n",
        "3. Setelah encoder adalah lapisan penyematan (embedding layer). Lapisan penyematan menyimpan satu vektor per kata. Saat dipanggil, ini mengubah rangkaian indeks kata menjadi rangkaian vektor. Vektor-vektor ini dapat dilatih. Setelah pelatihan (dengan data yang cukup), kata-kata dengan arti yang mirip sering kali memiliki vektor yang serupa. Pencarian indeks ini jauh lebih efisien daripada operasi setara dengan meneruskan vektor yang disandikan one-hot melalui lapisan tf.keras.layers.Dense.\n",
        "4. Jaringan saraf berulang (RNN) memproses masukan urutan dengan melakukan iterasi melalui elemen. RNN meneruskan keluaran dari satu langkah waktu ke masukannya pada langkah waktu berikutnya.\n",
        "Pembungkus tf.keras.layers.Bidirection juga dapat digunakan dengan lapisan RNN. Ini menyebarkan masukan maju dan mundur melalui lapisan RNN dan kemudian menggabungkan keluaran akhir. Keuntungan utama RNN dua arah adalah sinyal dari awal masukan tidak perlu diproses sepanjang waktu untuk memengaruhi keluaran.  Kerugian utama dari RNN dua arah adalah Anda tidak dapat melakukan streaming prediksi secara efisien saat kata-kata ditambahkan di akhir.\n",
        "5. Setelah RNN mengonversi urutan menjadi satu vektor, kedua lapisan tersebut.Dense melakukan beberapa pemrosesan akhir, dan mengonversi representasi vektor ini menjadi logit tunggal sebagai keluaran klasifikasi.\n",
        "\n",
        "Kode nya adalah sebagai berikut :"
      ],
      "metadata": {
        "id": "_DwDDEIWBhhJ"
      }
    },
    {
      "cell_type": "code",
      "source": [
        "model = tf.keras.Sequential([\n",
        "    encoder,\n",
        "    tf.keras.layers.Embedding(\n",
        "        input_dim=len(encoder.get_vocabulary()),\n",
        "        output_dim=64,\n",
        "        # Use masking to handle the variable sequence lengths\n",
        "        mask_zero=True),\n",
        "    tf.keras.layers.Bidirectional(tf.keras.layers.LSTM(64)),\n",
        "    tf.keras.layers.Dense(64, activation='relu'),\n",
        "    tf.keras.layers.Dense(1)\n",
        "])"
      ],
      "metadata": {
        "id": "2nkF80GWBzLh"
      },
      "execution_count": 10,
      "outputs": []
    },
    {
      "cell_type": "markdown",
      "source": [
        "Harap dicatat bahwa model sekuensial Keras digunakan di sini karena semua lapisan dalam model hanya memiliki masukan tunggal dan menghasilkan keluaran tunggal. Jika Anda ingin menggunakan lapisan RNN stateful, Anda mungkin ingin membangun model Anda dengan API fungsional Keras atau subkelas model sehingga Anda dapat mengambil dan menggunakan kembali status lapisan RNN. Untuk detailnya bisa dilihat pada Keras RNN guide\n",
        "\n",
        "Lapisan penyematan menggunakan masking (uses masking ) untuk menangani panjang urutan yang bervariasi. Semua lapisan setelah penyematan dukungan penyematan"
      ],
      "metadata": {
        "id": "Xo_m8DzkB02F"
      }
    },
    {
      "cell_type": "code",
      "source": [
        "print([layer.supports_masking for layer in model.layers])"
      ],
      "metadata": {
        "colab": {
          "base_uri": "https://localhost:8080/"
        },
        "id": "w-VbtI83B31C",
        "outputId": "bd549bb1-26da-43ea-9ec7-0f163ffc19a2"
      },
      "execution_count": 11,
      "outputs": [
        {
          "output_type": "stream",
          "name": "stdout",
          "text": [
            "[False, True, True, True, True]\n"
          ]
        }
      ]
    },
    {
      "cell_type": "markdown",
      "source": [
        "Untuk memastikan bahwa ini berfungsi seperti yang diharapkan, evaluasi sebuah kalimat dua kali. Pertama, satu kalimat sehingga tidak ada bantalan (padding) untuk disamarkan:"
      ],
      "metadata": {
        "id": "1r2eCpZhB5Ti"
      }
    },
    {
      "cell_type": "code",
      "source": [
        "# predict on a sample text without padding.\n",
        "\n",
        "sample_text = ('The movie was cool. The animation and the graphics '\n",
        "               'were out of this world. I would recommend this movie.')\n",
        "predictions = model.predict(np.array([sample_text]))\n",
        "print(predictions[0])"
      ],
      "metadata": {
        "colab": {
          "base_uri": "https://localhost:8080/"
        },
        "id": "WEojOdXVCApv",
        "outputId": "8c79fa4b-99cf-4b68-d7da-c292eb54f45d"
      },
      "execution_count": 12,
      "outputs": [
        {
          "output_type": "stream",
          "name": "stdout",
          "text": [
            "1/1 [==============================] - 7s 7s/step\n",
            "[0.00512679]\n"
          ]
        }
      ]
    },
    {
      "cell_type": "markdown",
      "source": [
        "Sekarang, evaluasi lagi dalam batch dengan kalimat yang lebih panjang. Hasilnya harus sama:"
      ],
      "metadata": {
        "id": "lqksj-fGCDNc"
      }
    },
    {
      "cell_type": "code",
      "source": [
        "# predict on a sample text with padding\n",
        "\n",
        "padding = \"the \" * 2000\n",
        "predictions = model.predict(np.array([sample_text, padding]))\n",
        "print(predictions[0])"
      ],
      "metadata": {
        "colab": {
          "base_uri": "https://localhost:8080/"
        },
        "id": "QUa_uTjSCDtR",
        "outputId": "fb1cdad1-1dbd-40cf-a595-91cf1fd02f67"
      },
      "execution_count": 13,
      "outputs": [
        {
          "output_type": "stream",
          "name": "stdout",
          "text": [
            "1/1 [==============================] - 0s 90ms/step\n",
            "[0.00512679]\n"
          ]
        }
      ]
    },
    {
      "cell_type": "markdown",
      "source": [
        "compile model Keras untuk mengonfigurasi proses pelatihan:"
      ],
      "metadata": {
        "id": "F_9a1xl3CFLs"
      }
    },
    {
      "cell_type": "code",
      "source": [
        "model.compile(loss=tf.keras.losses.BinaryCrossentropy(from_logits=True),\n",
        "              optimizer=tf.keras.optimizers.Adam(1e-4),\n",
        "              metrics=['accuracy'])"
      ],
      "metadata": {
        "id": "kl8bT70vCG76"
      },
      "execution_count": 14,
      "outputs": []
    },
    {
      "cell_type": "markdown",
      "source": [
        "**Train Model**"
      ],
      "metadata": {
        "id": "_acOgBlICJTR"
      }
    },
    {
      "cell_type": "code",
      "source": [
        "history = model.fit(train_dataset, epochs=10,\n",
        "                    validation_data=test_dataset,\n",
        "                    validation_steps=30)"
      ],
      "metadata": {
        "colab": {
          "base_uri": "https://localhost:8080/"
        },
        "id": "8RYXOG9HCK-O",
        "outputId": "30568aa9-6c94-47f1-add4-3c682fa72fb8"
      },
      "execution_count": 15,
      "outputs": [
        {
          "output_type": "stream",
          "name": "stdout",
          "text": [
            "Epoch 1/10\n",
            "391/391 [==============================] - 54s 110ms/step - loss: 0.6322 - accuracy: 0.5761 - val_loss: 0.4724 - val_accuracy: 0.7750\n",
            "Epoch 2/10\n",
            "391/391 [==============================] - 27s 69ms/step - loss: 0.4493 - accuracy: 0.7903 - val_loss: 0.4141 - val_accuracy: 0.8010\n",
            "Epoch 3/10\n",
            "391/391 [==============================] - 26s 67ms/step - loss: 0.3848 - accuracy: 0.8323 - val_loss: 0.3730 - val_accuracy: 0.8313\n",
            "Epoch 4/10\n",
            "391/391 [==============================] - 27s 68ms/step - loss: 0.3434 - accuracy: 0.8520 - val_loss: 0.3480 - val_accuracy: 0.8313\n",
            "Epoch 5/10\n",
            "391/391 [==============================] - 27s 67ms/step - loss: 0.3251 - accuracy: 0.8612 - val_loss: 0.3342 - val_accuracy: 0.8573\n",
            "Epoch 6/10\n",
            "391/391 [==============================] - 26s 65ms/step - loss: 0.3154 - accuracy: 0.8652 - val_loss: 0.3308 - val_accuracy: 0.8557\n",
            "Epoch 7/10\n",
            "391/391 [==============================] - 25s 65ms/step - loss: 0.3084 - accuracy: 0.8698 - val_loss: 0.3270 - val_accuracy: 0.8547\n",
            "Epoch 8/10\n",
            "391/391 [==============================] - 25s 65ms/step - loss: 0.3046 - accuracy: 0.8696 - val_loss: 0.3232 - val_accuracy: 0.8620\n",
            "Epoch 9/10\n",
            "391/391 [==============================] - 26s 67ms/step - loss: 0.2995 - accuracy: 0.8732 - val_loss: 0.3215 - val_accuracy: 0.8552\n",
            "Epoch 10/10\n",
            "391/391 [==============================] - 31s 79ms/step - loss: 0.2996 - accuracy: 0.8717 - val_loss: 0.3327 - val_accuracy: 0.8583\n"
          ]
        }
      ]
    },
    {
      "cell_type": "code",
      "source": [
        "test_loss, test_acc = model.evaluate(test_dataset)\n",
        "\n",
        "print('Test Loss:', test_loss)\n",
        "print('Test Accuracy:', test_acc)"
      ],
      "metadata": {
        "colab": {
          "base_uri": "https://localhost:8080/"
        },
        "id": "wFCnofEdCR84",
        "outputId": "93176a9a-cb6e-4383-cf5e-eda18c776dc9"
      },
      "execution_count": 16,
      "outputs": [
        {
          "output_type": "stream",
          "name": "stdout",
          "text": [
            "391/391 [==============================] - 12s 31ms/step - loss: 0.3326 - accuracy: 0.8612\n",
            "Test Loss: 0.33258363604545593\n",
            "Test Accuracy: 0.861240029335022\n"
          ]
        }
      ]
    },
    {
      "cell_type": "code",
      "source": [
        "plt.figure(figsize=(16, 6))\n",
        "plt.subplot(1, 2, 1)\n",
        "plot_graphs(history, 'accuracy')\n",
        "plt.ylim(None, 1)\n",
        "plt.subplot(1, 2, 2)\n",
        "plot_graphs(history, 'loss')\n",
        "plt.ylim(0, None)"
      ],
      "metadata": {
        "colab": {
          "base_uri": "https://localhost:8080/",
          "height": 565
        },
        "id": "jx2ki-UWCThG",
        "outputId": "65bb1fb7-a1dc-461d-8a3b-150b0dff05ca"
      },
      "execution_count": 17,
      "outputs": [
        {
          "output_type": "execute_result",
          "data": {
            "text/plain": [
              "(0.0, 0.6488079622387886)"
            ]
          },
          "metadata": {},
          "execution_count": 17
        },
        {
          "output_type": "display_data",
          "data": {
            "text/plain": [
              "<Figure size 1600x600 with 2 Axes>"
            ],
            "image/png": "[encoded data removed]"
          },
          "metadata": {}
        }
      ]
    },
    {
      "cell_type": "markdown",
      "source": [
        "Jalankan prediksi pada kalimat baru:\n",
        "Jika prediksi >= 0,0 berarti positif, jika tidak maka negatif."
      ],
      "metadata": {
        "id": "6MPCQrVsCWGY"
      }
    },
    {
      "cell_type": "code",
      "source": [
        "sample_text = ('The movie was cool. The animation and the graphics '\n",
        "               'were out of this world. I would recommend this movie.')\n",
        "predictions = model.predict(np.array([sample_text]))"
      ],
      "metadata": {
        "colab": {
          "base_uri": "https://localhost:8080/"
        },
        "id": "8bHAiow4CXGR",
        "outputId": "e452ed70-eda7-47e8-9a50-922715282122"
      },
      "execution_count": 18,
      "outputs": [
        {
          "output_type": "stream",
          "name": "stdout",
          "text": [
            "1/1 [==============================] - 3s 3s/step\n"
          ]
        }
      ]
    },
    {
      "cell_type": "markdown",
      "source": [
        "**Stack two or more LSTM layers**\n",
        "\n",
        "Lapisan berulang Keras memiliki dua mode yang tersedia yang dikontrol oleh argumen konstruktor return_sequences :\n",
        "* Jika False, ia hanya mengembalikan keluaran terakhir untuk setiap urutan masukan (bentuk tensor 2D (batch_size, output_features)). Ini adalah default yang digunakan pada model sebelumnya.\n",
        "*Jika True, Sequence lengkap output berturut-turut untuk setiap langkah waktu dikembalikan (bentuk tensor 3D (ukuran_batch, langkah waktu, fitur_output)).\n",
        "\n",
        "Berikut adalah alur informasi dengan return_sequences=True:\n",
        "Hal yang menarik dari penggunaan RNN dengan return_sequences=True adalah outputnya masih memiliki 3 axis, sama seperti inputnya, sehingga bisa diteruskan ke layer RNN lain, seperti ini:\n"
      ],
      "metadata": {
        "id": "liUp66yCCZ7y"
      }
    },
    {
      "cell_type": "code",
      "source": [
        "model = tf.keras.Sequential([\n",
        "    encoder,\n",
        "    tf.keras.layers.Embedding(len(encoder.get_vocabulary()), 64, mask_zero=True),\n",
        "    tf.keras.layers.Bidirectional(tf.keras.layers.LSTM(64,  return_sequences=True)),\n",
        "    tf.keras.layers.Bidirectional(tf.keras.layers.LSTM(32)),\n",
        "    tf.keras.layers.Dense(64, activation='relu'),\n",
        "    tf.keras.layers.Dropout(0.5),\n",
        "    tf.keras.layers.Dense(1)\n",
        "])"
      ],
      "metadata": {
        "id": "ax0yV1MJCkxN"
      },
      "execution_count": 19,
      "outputs": []
    },
    {
      "cell_type": "code",
      "source": [
        "model.compile(loss=tf.keras.losses.BinaryCrossentropy(from_logits=True),\n",
        "              optimizer=tf.keras.optimizers.Adam(1e-4),\n",
        "              metrics=['accuracy'])"
      ],
      "metadata": {
        "id": "it2nRZb5Cr-5"
      },
      "execution_count": 20,
      "outputs": []
    },
    {
      "cell_type": "code",
      "source": [
        "history = model.fit(train_dataset, epochs=10,\n",
        "                    validation_data=test_dataset,\n",
        "                    validation_steps=30)"
      ],
      "metadata": {
        "colab": {
          "base_uri": "https://localhost:8080/"
        },
        "id": "JvYL7-tzCuA8",
        "outputId": "fcb353a5-bf6c-4177-bdb0-6fd0dde84ff2"
      },
      "execution_count": 21,
      "outputs": [
        {
          "output_type": "stream",
          "name": "stdout",
          "text": [
            "Epoch 1/10\n",
            "391/391 [==============================] - 79s 156ms/step - loss: 0.6311 - accuracy: 0.5813 - val_loss: 0.4218 - val_accuracy: 0.8073\n",
            "Epoch 2/10\n",
            "391/391 [==============================] - 50s 127ms/step - loss: 0.3755 - accuracy: 0.8379 - val_loss: 0.3445 - val_accuracy: 0.8417\n",
            "Epoch 3/10\n",
            "391/391 [==============================] - 53s 135ms/step - loss: 0.3320 - accuracy: 0.8600 - val_loss: 0.3433 - val_accuracy: 0.8578\n",
            "Epoch 4/10\n",
            "391/391 [==============================] - 48s 121ms/step - loss: 0.3174 - accuracy: 0.8647 - val_loss: 0.3227 - val_accuracy: 0.8521\n",
            "Epoch 5/10\n",
            "391/391 [==============================] - 51s 131ms/step - loss: 0.3106 - accuracy: 0.8671 - val_loss: 0.3190 - val_accuracy: 0.8521\n",
            "Epoch 6/10\n",
            "391/391 [==============================] - 49s 125ms/step - loss: 0.3070 - accuracy: 0.8703 - val_loss: 0.3301 - val_accuracy: 0.8432\n",
            "Epoch 7/10\n",
            "391/391 [==============================] - 47s 121ms/step - loss: 0.3040 - accuracy: 0.8686 - val_loss: 0.3191 - val_accuracy: 0.8568\n",
            "Epoch 8/10\n",
            "391/391 [==============================] - 50s 127ms/step - loss: 0.3019 - accuracy: 0.8708 - val_loss: 0.3182 - val_accuracy: 0.8594\n",
            "Epoch 9/10\n",
            "391/391 [==============================] - 56s 142ms/step - loss: 0.2982 - accuracy: 0.8735 - val_loss: 0.3159 - val_accuracy: 0.8599\n",
            "Epoch 10/10\n",
            "391/391 [==============================] - 49s 123ms/step - loss: 0.2951 - accuracy: 0.8730 - val_loss: 0.3162 - val_accuracy: 0.8578\n"
          ]
        }
      ]
    },
    {
      "cell_type": "code",
      "source": [
        "test_loss, test_acc = model.evaluate(test_dataset)\n",
        "\n",
        "print('Test Loss:', test_loss)\n",
        "print('Test Accuracy:', test_acc)"
      ],
      "metadata": {
        "id": "apt6zjWVCyM5",
        "colab": {
          "base_uri": "https://localhost:8080/"
        },
        "outputId": "8beb718b-e87a-4fa3-ba85-0ff29ef25531"
      },
      "execution_count": 22,
      "outputs": [
        {
          "output_type": "stream",
          "name": "stdout",
          "text": [
            "391/391 [==============================] - 22s 57ms/step - loss: 0.3157 - accuracy: 0.8591\n",
            "Test Loss: 0.31574496626853943\n",
            "Test Accuracy: 0.8591200113296509\n"
          ]
        }
      ]
    },
    {
      "cell_type": "code",
      "source": [
        "sample_text = ('The movie was not good. The animation and the graphics '\n",
        "               'were terrible. I would not recommend this movie.')\n",
        "predictions = model.predict(np.array([sample_text]))\n",
        "print(predictions)"
      ],
      "metadata": {
        "id": "dwreLJH_C0SZ",
        "colab": {
          "base_uri": "https://localhost:8080/"
        },
        "outputId": "427fee03-fd8f-483e-b325-cedd5ba08bf1"
      },
      "execution_count": 23,
      "outputs": [
        {
          "output_type": "stream",
          "name": "stdout",
          "text": [
            "1/1 [==============================] - 6s 6s/step\n",
            "[[-2.0244086]]\n"
          ]
        }
      ]
    },
    {
      "cell_type": "code",
      "source": [
        "plt.figure(figsize=(16, 6))\n",
        "plt.subplot(1, 2, 1)\n",
        "plot_graphs(history, 'accuracy')\n",
        "plt.subplot(1, 2, 2)\n",
        "plot_graphs(history, 'loss')"
      ],
      "metadata": {
        "id": "hrIHSzCfC2KS",
        "colab": {
          "base_uri": "https://localhost:8080/",
          "height": 542
        },
        "outputId": "0ae93c6a-20b6-4941-e115-08ea5733698a"
      },
      "execution_count": 24,
      "outputs": [
        {
          "output_type": "display_data",
          "data": {
            "text/plain": [
              "<Figure size 1600x600 with 2 Axes>"
            ],
            "image/png": "[encoded data removed]"
          },
          "metadata": {}
        }
      ]
    }
  ]
}