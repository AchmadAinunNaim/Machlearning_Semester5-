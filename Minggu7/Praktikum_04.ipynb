{
  "nbformat": 4,
  "nbformat_minor": 0,
  "metadata": {
    "colab": {
      "provenance": [],
      "authorship_tag": "ABX9TyOrvAp/P1zp3i8xB0ZEC5P3",
      "include_colab_link": true
    },
    "kernelspec": {
      "name": "python3",
      "display_name": "Python 3"
    },
    "language_info": {
      "name": "python"
    }
  },
  "cells": [
    {
      "cell_type": "markdown",
      "metadata": {
        "id": "view-in-github",
        "colab_type": "text"
      },
      "source": [
        "<a href=\"https://colab.research.google.com/github/AchmadAinunNaim/Machlearning_Semester5-/blob/main/Minggu7/Praktikum_04.ipynb\" target=\"_parent\"><img src=\"https://colab.research.google.com/assets/colab-badge.svg\" alt=\"Open In Colab\"/></a>"
      ]
    },
    {
      "cell_type": "markdown",
      "source": [
        "Praktikum 04 -------> Segmentasi Citra Gamabr Lena"
      ],
      "metadata": {
        "id": "VABiOfTNRnY4"
      }
    },
    {
      "cell_type": "code",
      "source": [
        "from google.colab import drive\n",
        "drive.mount('/content/drive')"
      ],
      "metadata": {
        "colab": {
          "base_uri": "https://localhost:8080/"
        },
        "id": "A7AZdo4v1PjA",
        "outputId": "d21deee8-17c7-47bc-b01a-48ec140f8072"
      },
      "execution_count": null,
      "outputs": [
        {
          "output_type": "stream",
          "name": "stdout",
          "text": [
            "Drive already mounted at /content/drive; to attempt to forcibly remount, call drive.mount(\"/content/drive\", force_remount=True).\n"
          ]
        }
      ]
    },
    {
      "cell_type": "code",
      "execution_count": null,
      "metadata": {
        "colab": {
          "base_uri": "https://localhost:8080/"
        },
        "id": "WextsszFRIzf",
        "outputId": "83c7d46c-7105-4cee-fb47-f6fd406b0e4f"
      },
      "outputs": [
        {
          "output_type": "stream",
          "name": "stdout",
          "text": [
            "Requirement already satisfied: minisom in /usr/local/lib/python3.10/dist-packages (2.3.1)\n"
          ]
        }
      ],
      "source": [
        "pip install minisom"
      ]
    },
    {
      "cell_type": "markdown",
      "source": [
        "import library"
      ],
      "metadata": {
        "id": "FcVOF6ZCRwgs"
      }
    },
    {
      "cell_type": "code",
      "source": [
        "import numpy as np\n",
        "import matplotlib.pyplot as plt\n",
        "from skimage import io"
      ],
      "metadata": {
        "id": "Tljsm_V9R1-S"
      },
      "execution_count": null,
      "outputs": []
    },
    {
      "cell_type": "markdown",
      "source": [
        "Fungsi untuk menginisialasasi bobot SOM"
      ],
      "metadata": {
        "id": "YCY-mq8NR4Q2"
      }
    },
    {
      "cell_type": "code",
      "source": [
        "# Fungsi untuk menginisialisasi bobot SOM\n",
        "def initialize_weights(input_shape, output_shape):\n",
        "    return np.random.rand(output_shape[0], output_shape[1], input_shape[2])"
      ],
      "metadata": {
        "id": "VjBqFu8SR87q"
      },
      "execution_count": null,
      "outputs": []
    },
    {
      "cell_type": "markdown",
      "source": [
        "Fungsi Untuk Menghitung Jarak Antara vektor input dan bobot SOM"
      ],
      "metadata": {
        "id": "k44YoCOESAU0"
      }
    },
    {
      "cell_type": "code",
      "source": [
        "# Fungsi untuk menghitung jarak antara vektor input dan bobot SOM\n",
        "def calculate_distance(input_vector, weights):\n",
        "    return np.linalg.norm(input_vector - weights, axis=2)"
      ],
      "metadata": {
        "id": "ytK6pl8YSFZf"
      },
      "execution_count": null,
      "outputs": []
    },
    {
      "cell_type": "markdown",
      "source": [
        "Fungsi untuk menemukan indeks unit pemenang (unit dengan bobot terdekat)"
      ],
      "metadata": {
        "id": "KXWV_l5jSJnc"
      }
    },
    {
      "cell_type": "code",
      "source": [
        "# Fungsi untuk menemukan indeks unit pemenang (unit dengan bobot terdekat)\n",
        "def find_winner_unit_in_image(input_vector, weights):\n",
        "    distances = calculate_distance(input_vector, weights)\n",
        "    return np.unravel_index(np.argmin(distances), distances.shape)"
      ],
      "metadata": {
        "id": "QSG5I0lNSMCk"
      },
      "execution_count": null,
      "outputs": []
    },
    {
      "cell_type": "markdown",
      "source": [
        "\n",
        "Fungsi untuk memperbarui bobot SOM"
      ],
      "metadata": {
        "id": "v8iiEDJZSiaz"
      }
    },
    {
      "cell_type": "code",
      "source": [
        "# Fungsi untuk memperbarui bobot SOM\n",
        "def update_weights(input_vector, weights, winner, learning_rate, neighborhood_radius):\n",
        "    distances = np.linalg.norm(np.indices(weights.shape[:2]).T - np.array(winner).reshape(1, -1), axis=2)\n",
        "    influence = np.exp(-distances / (2 * neighborhood_radius**2))\n",
        "    weights += learning_rate * influence[:, :, np.newaxis] * (input_vector - weights)"
      ],
      "metadata": {
        "id": "8qdGc1fJSi8y"
      },
      "execution_count": null,
      "outputs": []
    },
    {
      "cell_type": "markdown",
      "source": [
        "Fungsi untuk melath SOm"
      ],
      "metadata": {
        "id": "IKJm0ubVXuvw"
      }
    },
    {
      "cell_type": "code",
      "source": [
        "# Fungsi untuk melatih SOM\n",
        "def train_som(image, num_epochs, initial_learning_rate, initial_neighborhood_radius):\n",
        "    input_shape = image.shape\n",
        "    som_shape = (10, 10, input_shape[2])  # Ukuran SOM sesuai dengan jumlah saluran warna\n",
        "    weights = initialize_weights(input_shape, som_shape)\n",
        "\n",
        "    for epoch in range(num_epochs):\n",
        "        # Update parameter pembelajaran dan radius tetangga\n",
        "        learning_rate = initial_learning_rate * np.exp(-epoch / num_epochs)\n",
        "        neighborhood_radius = initial_neighborhood_radius * np.exp(-epoch / num_epochs)\n",
        "        # Pemrosesan SOM\n",
        "        for i in range(input_shape[0]):\n",
        "            for j in range(input_shape[1]):\n",
        "                input_vector = image[i, j, :]\n",
        "                winner = find_winner_unit_in_image(input_vector, weights)\n",
        "                update_weights(input_vector, weights, winner, learning_rate, neighborhood_radius)\n",
        "\n",
        "    return weights"
      ],
      "metadata": {
        "id": "idWGdazoWGC5"
      },
      "execution_count": null,
      "outputs": []
    },
    {
      "cell_type": "markdown",
      "source": [
        " Normalisasi intensitas piksel menjadi rentang dan\n",
        " Load citra Lenna (Anda bisa mengganti ini dengan citra lain jika diperlukan)"
      ],
      "metadata": {
        "id": "sKXhBSvqXh-c"
      }
    },
    {
      "cell_type": "code",
      "source": [
        "# Load citra Lenna (Anda bisa mengganti ini dengan citra lain jika diperlukan)\n",
        "Lenna_path = \"/content/drive/MyDrive/Colab Notebooks/Machlearning/Pertemuan 07/gambar lena.jpg\"\n",
        "Lenna = io.imread(Lenna_path) / 255.0  # Normalisasi intensitas piksel menjadi rentang [0, 1]"
      ],
      "metadata": {
        "id": "jCzmSNjJ2tu3"
      },
      "execution_count": null,
      "outputs": []
    },
    {
      "cell_type": "markdown",
      "source": [
        "Latih SOM"
      ],
      "metadata": {
        "id": "zzMEn_rMXZOw"
      }
    },
    {
      "cell_type": "code",
      "source": [
        "# Latih SOM\n",
        "num_epochs = 100\n",
        "initial_learning_rate = 0.1\n",
        "initial_neighborhood_radius = 5\n",
        "trained_weights = train_som(Lenna, num_epochs, initial_learning_rate, initial_neighborhood_radius)"
      ],
      "metadata": {
        "id": "1yKpxfXJ23J4"
      },
      "execution_count": null,
      "outputs": []
    },
    {
      "cell_type": "markdown",
      "source": [
        "Visualiasasi bobot SOM"
      ],
      "metadata": {
        "id": "8YQ7r7cAXWQs"
      }
    },
    {
      "cell_type": "code",
      "source": [
        "# Visualisasi bobot SOM\n",
        "plt.imshow(trained_weights)\n",
        "plt.title('Trained SOM Weights for Lena')\n",
        "plt.show()"
      ],
      "metadata": {
        "colab": {
          "base_uri": "https://localhost:8080/",
          "height": 452
        },
        "id": "nWqdesv43Cxw",
        "outputId": "55824ac3-23e8-47dc-99ad-7868bc9ea66f"
      },
      "execution_count": null,
      "outputs": [
        {
          "output_type": "display_data",
          "data": {
            "text/plain": [
              "<Figure size 640x480 with 1 Axes>"
            ],
            "image/png": "[encoded data removed]"
          },
          "metadata": {}
        }
      ]
    }
  ]
}